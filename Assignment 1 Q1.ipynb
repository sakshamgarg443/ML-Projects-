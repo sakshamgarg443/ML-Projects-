{
  "nbformat": 4,
  "nbformat_minor": 0,
  "metadata": {
    "colab": {
      "provenance": []
    },
    "kernelspec": {
      "name": "python3",
      "display_name": "Python 3"
    },
    "language_info": {
      "name": "python"
    }
  },
  "cells": [
    {
      "cell_type": "code",
      "execution_count": 11,
      "metadata": {
        "id": "TIjvqKIY_FFj"
      },
      "outputs": [],
      "source": [
        "import numpy as np\n",
        "import pandas as pd\n",
        "import matplotlib.pyplot as plt\n",
        "from sklearn.preprocessing import LabelEncoder\n"
      ]
    },
    {
      "cell_type": "code",
      "source": [
        "data = pd.read_excel('/content/Training data.xlsx')\n",
        "x_train = np.array(data.iloc[:,0:8])\n",
        "y_train = np.array(data.iloc[:,8]).reshape(-1,1)"
      ],
      "metadata": {
        "id": "n75N3E6rBP7W"
      },
      "execution_count": 12,
      "outputs": []
    },
    {
      "cell_type": "code",
      "source": [
        "def feature_changing(x_train):\n",
        "    le = LabelEncoder()\n",
        "    x_train[:, 0] = le.fit_transform(x_train[:, 0])\n",
        "    x_train[:, 1] = le.fit_transform(x_train[:, 1])\n",
        "    return x_train\n",
        "\n",
        "x_train = feature_changing(x_train)"
      ],
      "metadata": {
        "id": "3m7jh_eZB0lw"
      },
      "execution_count": 13,
      "outputs": []
    },
    {
      "cell_type": "code",
      "source": [
        "def z_score(x_train):\n",
        "    x_mean = np.mean(x_train, axis=0)\n",
        "    x_std = np.std(x_train, axis=0)\n",
        "    x_train = (x_train - x_mean) / x_std\n",
        "    return x_train, x_std, x_mean"
      ],
      "metadata": {
        "id": "QJau8cRaDbvy"
      },
      "execution_count": 14,
      "outputs": []
    },
    {
      "cell_type": "code",
      "source": [
        "def cost(x_train, y_train, w, b):\n",
        "    m = len(y_train) # Define m here as the length of y_train\n",
        "    predictions = np.dot(x_train, w) + b\n",
        "    loss = np.sum((predictions - y_train) ** 2) / (2 * m)\n",
        "    return loss"
      ],
      "metadata": {
        "id": "ESLOR7s0DcBA"
      },
      "execution_count": 16,
      "outputs": []
    },
    {
      "cell_type": "code",
      "source": [
        "def gradient_descent(x_train, y_train, w, b, learning_rate=0.01, epochs=1000):\n",
        "    m = len(y_train)\n",
        "    for i in range(epochs):\n",
        "        predictions = np.dot(x_train, w) + b\n",
        "        error = predictions - y_train\n",
        "        w_gradient = np.dot(x_train.T, error) / m\n",
        "        b_gradient = np.sum(error) / m\n",
        "        w -= learning_rate * w_gradient\n",
        "        b -= learning_rate * b_gradient\n",
        "    return w, b"
      ],
      "metadata": {
        "id": "FyXSgF0bDcMm"
      },
      "execution_count": 17,
      "outputs": []
    },
    {
      "cell_type": "code",
      "source": [
        "x_train = x_train.astype(np.float64)\n",
        "x_train, x_std, x_mean = z_score(x_train)\n",
        "\n",
        "np.random.seed(2147483647)\n",
        "w = np.random.randn(x_train.shape[1],1)\n",
        "b = np.random.randn(1)\n",
        "\n",
        "old_cost = 0\n",
        "current_cost = cost(x_train, y_train, w, b)\n",
        "\n",
        "while abs(old_cost - current_cost) > 0.00001:\n",
        "    old_cost = current_cost\n",
        "    w, b = gradient_descent(x_train, y_train, w, b)\n",
        "    current_cost = cost(x_train, y_train, w, b)\n",
        "\n",
        "x_predict = pd.read_excel('/content/Test data.xlsx').iloc[:,:8].to_numpy()\n",
        "x_predict = feature_changing(x_predict)\n",
        "x_predict = (x_predict - x_mean) / x_std\n",
        "ans = pd.read_excel('/content/Test data.xlsx').iloc[:,8].to_numpy()\n",
        "\n",
        "y_predict = np.dot(x_predict, w) + b\n",
        "\n",
        "accuracy = 0\n",
        "for dim in range(len(ans)):\n",
        "    if abs(y_predict[dim] - ans[dim]) < 0.5:  # do not change the tolerance as you'll be checked on +- 0.5 error only\n",
        "        accuracy += 1\n",
        "accuracy = round(accuracy * 100 / len(ans), 2)\n",
        "ok = 'Congratulations' if accuracy > 95 else 'Optimization required'\n",
        "print(f\"{ok}, your accuracy is {accuracy}%\")"
      ],
      "metadata": {
        "colab": {
          "base_uri": "https://localhost:8080/"
        },
        "id": "oNWHuC1aDcYL",
        "outputId": "5d664e1d-a7ce-4ed6-d78a-2dabe8458ced"
      },
      "execution_count": 18,
      "outputs": [
        {
          "output_type": "stream",
          "name": "stdout",
          "text": [
            "Congratulations, your accuracy is 100.0%\n"
          ]
        }
      ]
    },
    {
      "cell_type": "code",
      "source": [],
      "metadata": {
        "id": "pygIj67vDclF"
      },
      "execution_count": null,
      "outputs": []
    },
    {
      "cell_type": "code",
      "source": [],
      "metadata": {
        "id": "Mpt6mTiVDc3-"
      },
      "execution_count": null,
      "outputs": []
    },
    {
      "cell_type": "markdown",
      "source": [],
      "metadata": {
        "id": "BrwW1aRhBhCj"
      }
    }
  ]
}