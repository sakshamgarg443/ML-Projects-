{
  "nbformat": 4,
  "nbformat_minor": 0,
  "metadata": {
    "colab": {
      "provenance": []
    },
    "kernelspec": {
      "name": "python3",
      "display_name": "Python 3"
    },
    "language_info": {
      "name": "python"
    }
  },
  "cells": [
    {
      "cell_type": "code",
      "execution_count": null,
      "metadata": {
        "colab": {
          "base_uri": "https://localhost:8080/"
        },
        "id": "ongS9RQJN8Vq",
        "outputId": "1cd6b237-94a4-4e23-dda7-750c38d69995"
      },
      "outputs": [
        {
          "output_type": "stream",
          "name": "stdout",
          "text": [
            "RSE for Black-Scholes Model: 627.6617080942325\n",
            "RSE for Binomial Model: 628.6642750785832\n"
          ]
        }
      ],
      "source": [
        "import pandas as pd\n",
        "import numpy as np\n",
        "from scipy.stats import norm\n",
        "\n",
        "# Load the CSV file\n",
        "\n",
        "df = pd.read_csv(\"/content/Book1.csv\")\n",
        "\n",
        "# Replace '-' with NaN and convert columns to appropriate numeric types\n",
        "df['IV'] = df['IV'].replace('-', np.nan).astype(float)\n",
        "df['STRIKE'] = df['STRIKE'].str.replace(',', '').astype(float)\n",
        "df['LTP'] = df['LTP'].str.replace(',', '').astype(float)\n",
        "\n",
        "# Drop rows with missing IV values\n",
        "df = df.dropna(subset=['IV'])\n",
        "\n",
        "\n",
        "# Constants\n",
        "r = .1      # Risk-free rate (assumed)\n",
        "T = 5/252   # Time to maturity (in years, assumed)\n",
        "\n",
        "# Black-Scholes Model\n",
        "def black_scholes(S, K, T, r, sigma):\n",
        "    d1 = (np.log(S / K) + (r + 0.5 * sigma**2) * T) / (sigma * np.sqrt(T))\n",
        "    d2 = d1 - sigma * np.sqrt(T)\n",
        "    call_price = S * norm.cdf(d1) - K * np.exp(-r * T) * norm.cdf(d2)\n",
        "    return call_price\n",
        "\n",
        "# Binomial Model\n",
        "def binomial_model(S, K, T, r, sigma, N=100):\n",
        "    dt = T / N\n",
        "    u = np.exp(sigma * np.sqrt(dt))\n",
        "    d = 1 / u\n",
        "    p = (np.exp(r * dt) - d) / (u - d)\n",
        "\n",
        "    # Initialize asset prices at maturity\n",
        "    asset_prices = np.zeros(N + 1)\n",
        "    option_values = np.zeros(N + 1)\n",
        "\n",
        "    for i in range(N + 1):\n",
        "        asset_prices[i] = S * (u**i) * (d**(N - i))\n",
        "\n",
        "    # Calculate the option value at maturity\n",
        "    for i in range(N + 1):\n",
        "        option_values[i] = max(0, asset_prices[i] - K)\n",
        "\n",
        "    # Step back through the tree\n",
        "    for j in range(N - 1, -1, -1):\n",
        "        for i in range(j + 1):\n",
        "            option_values[i] = np.exp(-r * dt) * (p * option_values[i + 1] + (1 - p) * option_values[i])\n",
        "\n",
        "    return option_values[0]\n",
        "\n",
        "# Define S, K, and sigma using the sheet\n",
        "df['S'] = 24143  # Assuming the spot price is the same as the strike price\n",
        "df['K'] = df['STRIKE']  # Strike price\n",
        "df['sigma'] = df['IV']/100  # Implied Volatility\n",
        "\n",
        "# Calculate prices using Black-Scholes and Binomial models\n",
        "df['BS_Price'] = df.apply(lambda row: black_scholes(row['S'], row['K'], T, r, row['sigma']), axis=1)\n",
        "df['Binomial_Price'] = df.apply(lambda row: binomial_model(row['S'], row['K'], T, r, row['sigma']), axis=1)\n",
        "\n",
        "# Calculate Root Squared Error (RSE) for both models\n",
        "df['RSE_BS'] = (df['LTP'] - df['BS_Price'])**2\n",
        "df['RSE_Binomial'] = (df['LTP'] - df['Binomial_Price'])**2\n",
        "\n",
        "# Calculate RSE for both models\n",
        "rse_bs = np.sqrt(df['RSE_BS'].sum())\n",
        "rse_binomial = np.sqrt(df['RSE_Binomial'].sum())\n",
        "\n",
        "# Define accuracy as being within a certain percentage of the LTP\n",
        "accuracy_threshold = 0.10  # 10%\n",
        "\n",
        "# Calculate accuracy for Black-Scholes\n",
        "df['BS_Accuracy'] = np.abs(df['LTP'] - df['BS_Price']) / df['LTP'] <= accuracy_threshold\n",
        "\n",
        "# Calculate accuracy for Binomial model\n",
        "df['Binomial_Accuracy'] = np.abs(df['LTP'] - df['Binomial_Price']) / df['LTP'] <= accuracy_threshold\n",
        "\n",
        "# Compute accuracy percentages\n",
        "bs_accuracy_percentage = df['BS_Accuracy'].mean() * 100\n",
        "binomial_accuracy_percentage = df['Binomial_Accuracy'].mean() * 100\n",
        "\n",
        "# Output the RSE values and accuracy percentages\n",
        "print(f'RSE for Black-Scholes Model: {rse_bs}')\n",
        "print(f'RSE for Binomial Model: {rse_binomial}')\n",
        "\n",
        "\n",
        "\n"
      ]
    },
    {
      "cell_type": "code",
      "source": [],
      "metadata": {
        "id": "ofsFi9o4Opb-"
      },
      "execution_count": null,
      "outputs": []
    }
  ]
}