{
  "cells": [
    {
      "cell_type": "code",
      "execution_count": 66,
      "metadata": {
        "id": "PFhuKawWuS6H"
      },
      "outputs": [],
      "source": [
        "import os\n",
        "import zipfile\n",
        "import numpy as np\n",
        "from PIL import Image\n",
        "from sklearn.model_selection import train_test_split\n",
        "from sklearn.preprocessing import LabelEncoder\n",
        "from tensorflow.keras.models import Sequential\n",
        "from tensorflow.keras.layers import Dense, Flatten\n",
        "from tensorflow.keras.optimizers import Adam\n",
        "from tensorflow.keras.metrics import BinaryAccuracy\n",
        "from tensorflow.keras.regularizers import l2"
      ]
    },
    {
      "cell_type": "code",
      "execution_count": 67,
      "metadata": {
        "id": "K4VSZHZ0uWhn"
      },
      "outputs": [],
      "source": [
        "zip_file_path = \"/content/homer_bart.zip\"\n",
        "\n",
        "with zipfile.ZipFile(zip_file_path, 'r') as zip_ref:\n",
        "    zip_ref.extractall(\"/content/\")"
      ]
    },
    {
      "cell_type": "code",
      "execution_count": 68,
      "metadata": {
        "id": "ZUqge4ozypz3"
      },
      "outputs": [],
      "source": [
        "images_directory = \"/content/homer_bart\""
      ]
    },
    {
      "cell_type": "code",
      "execution_count": 69,
      "metadata": {
        "id": "5hIyIhOMuQmk"
      },
      "outputs": [],
      "source": [
        "# Function to load and preprocess images\n",
        "def load_images(directory, target_size=(64, 64)):\n",
        "    images = []\n",
        "    labels = []\n",
        "    label_encoder = LabelEncoder()\n",
        "\n",
        "    for root, dirs, files in os.walk(directory):\n",
        "        for file in files:\n",
        "            if file.endswith((\".jpg\", \".png\", \".bmp\")):\n",
        "                img_path = os.path.join(root, file)\n",
        "                label = os.path.basename(root)\n",
        "                labels.append(label)\n",
        "                img = Image.open(img_path)\n",
        "                img = img.resize(target_size)\n",
        "                img = np.array(img) / 255.0\n",
        "                images.append(img)\n",
        "\n",
        "    labels = label_encoder.fit_transform(labels)\n",
        "\n",
        "    return np.array(images), np.array(labels)\n",
        "\n",
        "images, labels = load_images(images_directory)\n"
      ]
    },
    {
      "cell_type": "code",
      "execution_count": 70,
      "metadata": {
        "id": "527f-s9tupX8"
      },
      "outputs": [],
      "source": [
        "X_train, X_test, y_train, y_test = train_test_split(images, labels, test_size=0.1, random_state=42)"
      ]
    },
    {
      "cell_type": "code",
      "execution_count": 81,
      "metadata": {
        "id": "FcibZUJpuZj7"
      },
      "outputs": [],
      "source": [
        "model = Sequential([\n",
        "    Flatten(input_shape=(64, 64, 3)),\n",
        "    Dense(128, activation='relu', kernel_regularizer=l2(0.01)),\n",
        "    Dense(64, activation='relu', kernel_regularizer=l2(0.01)),\n",
        "    Dense(32, activation='relu', kernel_regularizer=l2(0.1)),\n",
        "    Dense(16, activation='relu', kernel_regularizer=l2(0.1)),\n",
        "    Dense(1, activation='sigmoid')\n",
        "])\n",
        "\n",
        "model.compile(optimizer=Adam(), loss='binary_crossentropy', metrics=[BinaryAccuracy()])"
      ]
    },
    {
      "cell_type": "code",
      "execution_count": 82,
      "metadata": {
        "colab": {
          "base_uri": "https://localhost:8080/"
        },
        "id": "Sxa7zTzIub-Q",
        "outputId": "d5831811-79a2-414a-c38e-9b2791c7da11"
      },
      "outputs": [
        {
          "name": "stdout",
          "output_type": "stream",
          "text": [
            "Epoch 1/64\n",
            "8/8 [==============================] - 1s 21ms/step - loss: 10.5490 - binary_accuracy: 0.4835\n",
            "Epoch 2/64\n",
            "8/8 [==============================] - 0s 21ms/step - loss: 9.1072 - binary_accuracy: 0.5661\n",
            "Epoch 3/64\n",
            "8/8 [==============================] - 0s 21ms/step - loss: 8.2663 - binary_accuracy: 0.6570\n",
            "Epoch 4/64\n",
            "8/8 [==============================] - 0s 21ms/step - loss: 7.4997 - binary_accuracy: 0.7686\n",
            "Epoch 5/64\n",
            "8/8 [==============================] - 0s 21ms/step - loss: 6.9274 - binary_accuracy: 0.7810\n",
            "Epoch 6/64\n",
            "8/8 [==============================] - 0s 27ms/step - loss: 6.4024 - binary_accuracy: 0.7851\n",
            "Epoch 7/64\n",
            "8/8 [==============================] - 0s 43ms/step - loss: 5.9156 - binary_accuracy: 0.7893\n",
            "Epoch 8/64\n",
            "8/8 [==============================] - 0s 31ms/step - loss: 5.5639 - binary_accuracy: 0.7355\n",
            "Epoch 9/64\n",
            "8/8 [==============================] - 0s 23ms/step - loss: 5.1352 - binary_accuracy: 0.7893\n",
            "Epoch 10/64\n",
            "8/8 [==============================] - 0s 27ms/step - loss: 4.9424 - binary_accuracy: 0.7314\n",
            "Epoch 11/64\n",
            "8/8 [==============================] - 0s 21ms/step - loss: 4.4731 - binary_accuracy: 0.8347\n",
            "Epoch 12/64\n",
            "8/8 [==============================] - 0s 21ms/step - loss: 4.2047 - binary_accuracy: 0.7975\n",
            "Epoch 13/64\n",
            "8/8 [==============================] - 0s 21ms/step - loss: 4.0846 - binary_accuracy: 0.7562\n",
            "Epoch 14/64\n",
            "8/8 [==============================] - 0s 21ms/step - loss: 3.7028 - binary_accuracy: 0.8182\n",
            "Epoch 15/64\n",
            "8/8 [==============================] - 0s 22ms/step - loss: 3.4481 - binary_accuracy: 0.8595\n",
            "Epoch 16/64\n",
            "8/8 [==============================] - 0s 28ms/step - loss: 3.3197 - binary_accuracy: 0.8306\n",
            "Epoch 17/64\n",
            "8/8 [==============================] - 0s 21ms/step - loss: 3.1293 - binary_accuracy: 0.8595\n",
            "Epoch 18/64\n",
            "8/8 [==============================] - 0s 21ms/step - loss: 3.1534 - binary_accuracy: 0.7686\n",
            "Epoch 19/64\n",
            "8/8 [==============================] - 0s 27ms/step - loss: 2.8725 - binary_accuracy: 0.8306\n",
            "Epoch 20/64\n",
            "8/8 [==============================] - 0s 32ms/step - loss: 2.6779 - binary_accuracy: 0.8843\n",
            "Epoch 21/64\n",
            "8/8 [==============================] - 0s 33ms/step - loss: 2.5682 - binary_accuracy: 0.8636\n",
            "Epoch 22/64\n",
            "8/8 [==============================] - 0s 30ms/step - loss: 2.5991 - binary_accuracy: 0.7810\n",
            "Epoch 23/64\n",
            "8/8 [==============================] - 0s 30ms/step - loss: 2.4052 - binary_accuracy: 0.8347\n",
            "Epoch 24/64\n",
            "8/8 [==============================] - 0s 30ms/step - loss: 2.4412 - binary_accuracy: 0.7727\n",
            "Epoch 25/64\n",
            "8/8 [==============================] - 0s 32ms/step - loss: 2.2479 - binary_accuracy: 0.8099\n",
            "Epoch 26/64\n",
            "8/8 [==============================] - 0s 31ms/step - loss: 2.0829 - binary_accuracy: 0.8967\n",
            "Epoch 27/64\n",
            "8/8 [==============================] - 0s 30ms/step - loss: 2.0094 - binary_accuracy: 0.8802\n",
            "Epoch 28/64\n",
            "8/8 [==============================] - 0s 32ms/step - loss: 1.9434 - binary_accuracy: 0.8760\n",
            "Epoch 29/64\n",
            "8/8 [==============================] - 0s 30ms/step - loss: 1.8907 - binary_accuracy: 0.8719\n",
            "Epoch 30/64\n",
            "8/8 [==============================] - 0s 31ms/step - loss: 1.7785 - binary_accuracy: 0.9298\n",
            "Epoch 31/64\n",
            "8/8 [==============================] - 0s 29ms/step - loss: 1.7078 - binary_accuracy: 0.9339\n",
            "Epoch 32/64\n",
            "8/8 [==============================] - 0s 35ms/step - loss: 1.6493 - binary_accuracy: 0.9504\n",
            "Epoch 33/64\n",
            "8/8 [==============================] - 0s 31ms/step - loss: 1.6273 - binary_accuracy: 0.9174\n",
            "Epoch 34/64\n",
            "8/8 [==============================] - 0s 32ms/step - loss: 1.5510 - binary_accuracy: 0.9628\n",
            "Epoch 35/64\n",
            "8/8 [==============================] - 0s 22ms/step - loss: 1.4909 - binary_accuracy: 0.9711\n",
            "Epoch 36/64\n",
            "8/8 [==============================] - 0s 22ms/step - loss: 1.4411 - binary_accuracy: 0.9793\n",
            "Epoch 37/64\n",
            "8/8 [==============================] - 0s 22ms/step - loss: 1.4161 - binary_accuracy: 0.9545\n",
            "Epoch 38/64\n",
            "8/8 [==============================] - 0s 22ms/step - loss: 1.3877 - binary_accuracy: 0.9504\n",
            "Epoch 39/64\n",
            "8/8 [==============================] - 0s 23ms/step - loss: 1.4521 - binary_accuracy: 0.8802\n",
            "Epoch 40/64\n",
            "8/8 [==============================] - 0s 22ms/step - loss: 1.3562 - binary_accuracy: 0.9256\n",
            "Epoch 41/64\n",
            "8/8 [==============================] - 0s 23ms/step - loss: 1.3614 - binary_accuracy: 0.9050\n",
            "Epoch 42/64\n",
            "8/8 [==============================] - 0s 25ms/step - loss: 1.3403 - binary_accuracy: 0.8926\n",
            "Epoch 43/64\n",
            "8/8 [==============================] - 0s 21ms/step - loss: 1.2797 - binary_accuracy: 0.9256\n",
            "Epoch 44/64\n",
            "8/8 [==============================] - 0s 20ms/step - loss: 1.2236 - binary_accuracy: 0.9504\n",
            "Epoch 45/64\n",
            "8/8 [==============================] - 0s 21ms/step - loss: 1.2090 - binary_accuracy: 0.9463\n",
            "Epoch 46/64\n",
            "8/8 [==============================] - 0s 21ms/step - loss: 1.4160 - binary_accuracy: 0.8182\n",
            "Epoch 47/64\n",
            "8/8 [==============================] - 0s 21ms/step - loss: 1.3854 - binary_accuracy: 0.7893\n",
            "Epoch 48/64\n",
            "8/8 [==============================] - 0s 23ms/step - loss: 1.2885 - binary_accuracy: 0.8388\n",
            "Epoch 49/64\n",
            "8/8 [==============================] - 0s 24ms/step - loss: 1.1769 - binary_accuracy: 0.9174\n",
            "Epoch 50/64\n",
            "8/8 [==============================] - 0s 21ms/step - loss: 1.0946 - binary_accuracy: 0.9793\n",
            "Epoch 51/64\n",
            "8/8 [==============================] - 0s 22ms/step - loss: 1.0589 - binary_accuracy: 0.9876\n",
            "Epoch 52/64\n",
            "8/8 [==============================] - 0s 22ms/step - loss: 1.0472 - binary_accuracy: 0.9917\n",
            "Epoch 53/64\n",
            "8/8 [==============================] - 0s 25ms/step - loss: 1.0405 - binary_accuracy: 0.9752\n",
            "Epoch 54/64\n",
            "8/8 [==============================] - 0s 21ms/step - loss: 1.0723 - binary_accuracy: 0.9421\n",
            "Epoch 55/64\n",
            "8/8 [==============================] - 0s 23ms/step - loss: 1.1631 - binary_accuracy: 0.8595\n",
            "Epoch 56/64\n",
            "8/8 [==============================] - 0s 20ms/step - loss: 1.2033 - binary_accuracy: 0.8306\n",
            "Epoch 57/64\n",
            "8/8 [==============================] - 0s 21ms/step - loss: 1.0787 - binary_accuracy: 0.9174\n",
            "Epoch 58/64\n",
            "8/8 [==============================] - 0s 22ms/step - loss: 0.9857 - binary_accuracy: 0.9669\n",
            "Epoch 59/64\n",
            "8/8 [==============================] - 0s 23ms/step - loss: 0.9476 - binary_accuracy: 0.9917\n",
            "Epoch 60/64\n",
            "8/8 [==============================] - 0s 21ms/step - loss: 0.9305 - binary_accuracy: 0.9876\n",
            "Epoch 61/64\n",
            "8/8 [==============================] - 0s 23ms/step - loss: 0.9089 - binary_accuracy: 0.9959\n",
            "Epoch 62/64\n",
            "8/8 [==============================] - 0s 22ms/step - loss: 0.8958 - binary_accuracy: 0.9917\n",
            "Epoch 63/64\n",
            "8/8 [==============================] - 0s 21ms/step - loss: 0.9061 - binary_accuracy: 0.9752\n",
            "Epoch 64/64\n",
            "8/8 [==============================] - 0s 25ms/step - loss: 0.8615 - binary_accuracy: 1.0000\n",
            "1/1 [==============================] - 0s 170ms/step - loss: 1.2768 - binary_accuracy: 0.8519\n",
            "Test Accuracy: 85.19%\n"
          ]
        }
      ],
      "source": [
        "model.fit(X_train, y_train, batch_size=32, epochs=64, verbose=1)\n",
        "\n",
        "loss, accuracy = model.evaluate(X_test, y_test)\n",
        "\n",
        "print(f\"Test Accuracy: {accuracy * 100:.2f}%\")"
      ]
    }
  ],
  "metadata": {
    "colab": {
      "provenance": []
    },
    "kernelspec": {
      "display_name": "Python 3",
      "name": "python3"
    },
    "language_info": {
      "name": "python"
    }
  },
  "nbformat": 4,
  "nbformat_minor": 0
}
